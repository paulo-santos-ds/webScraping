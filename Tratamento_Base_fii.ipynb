{
  "cells": [
    {
      "cell_type": "markdown",
      "metadata": {
        "id": "view-in-github",
        "colab_type": "text"
      },
      "source": [
        "<a href=\"https://colab.research.google.com/github/paulo-santos-ds/webScraping/blob/main/Tratamento_Base_fii.ipynb\" target=\"_parent\"><img src=\"https://colab.research.google.com/assets/colab-badge.svg\" alt=\"Open In Colab\"/></a>"
      ]
    },
    {
      "cell_type": "code",
      "execution_count": 37,
      "id": "b0e223f7",
      "metadata": {
        "id": "b0e223f7"
      },
      "outputs": [],
      "source": [
        "import numpy as np \n",
        "import pandas as pd"
      ]
    },
    {
      "cell_type": "code",
      "execution_count": 38,
      "id": "b42d6e44",
      "metadata": {
        "id": "b42d6e44",
        "outputId": "b6c79c14-803a-4299-d178-37bbb58847a4",
        "colab": {
          "base_uri": "https://localhost:8080/"
        }
      },
      "outputs": [
        {
          "output_type": "execute_result",
          "data": {
            "text/plain": [
              "(353, 8)"
            ]
          },
          "metadata": {},
          "execution_count": 38
        }
      ],
      "source": [
        "df = pd.read_csv('/data_fii_raw.csv', sep=';', decimal='.')\n",
        "df.shape"
      ]
    },
    {
      "cell_type": "code",
      "execution_count": 39,
      "id": "75460171",
      "metadata": {
        "id": "75460171",
        "outputId": "5ca6fb1e-9125-4f86-9ad6-421c1153657f",
        "colab": {
          "base_uri": "https://localhost:8080/",
          "height": 206
        }
      },
      "outputs": [
        {
          "output_type": "execute_result",
          "data": {
            "text/plain": [
              "  nome_fii liq diaria ultimo rend  yield patrim liquido valor patrim rent mes  \\\n",
              "0   ABCP11      1.721     R$ 0,65  0,88%      R$ 1,1 bi     R$ 91,83   -0,60%   \n",
              "1   AFCR11        957     R$ 1,30  1,25%    R$ 154,9 mi    R$ 102,29    1,05%   \n",
              "2   AFHI11     28.440     R$ 1,35  1,36%    R$ 173,8 mi     R$ 97,24   -2,21%   \n",
              "3   AFOF11      1.863     R$ 0,60  1,28%     R$ 70,7 mi    R$ 102,32   -4,13%   \n",
              "4   AIEC11      1.639     R$ 0,72  0,90%    R$ 488,5 mi    R$ 101,24   -3,08%   \n",
              "\n",
              "   p/vp  \n",
              "0  0,79  \n",
              "1  1,01  \n",
              "2  1,10  \n",
              "3  0,87  \n",
              "4  0,79  "
            ],
            "text/html": [
              "\n",
              "  <div id=\"df-c0fbd011-fe05-4254-b547-afdc102b7ddf\">\n",
              "    <div class=\"colab-df-container\">\n",
              "      <div>\n",
              "<style scoped>\n",
              "    .dataframe tbody tr th:only-of-type {\n",
              "        vertical-align: middle;\n",
              "    }\n",
              "\n",
              "    .dataframe tbody tr th {\n",
              "        vertical-align: top;\n",
              "    }\n",
              "\n",
              "    .dataframe thead th {\n",
              "        text-align: right;\n",
              "    }\n",
              "</style>\n",
              "<table border=\"1\" class=\"dataframe\">\n",
              "  <thead>\n",
              "    <tr style=\"text-align: right;\">\n",
              "      <th></th>\n",
              "      <th>nome_fii</th>\n",
              "      <th>liq diaria</th>\n",
              "      <th>ultimo rend</th>\n",
              "      <th>yield</th>\n",
              "      <th>patrim liquido</th>\n",
              "      <th>valor patrim</th>\n",
              "      <th>rent mes</th>\n",
              "      <th>p/vp</th>\n",
              "    </tr>\n",
              "  </thead>\n",
              "  <tbody>\n",
              "    <tr>\n",
              "      <th>0</th>\n",
              "      <td>ABCP11</td>\n",
              "      <td>1.721</td>\n",
              "      <td>R$ 0,65</td>\n",
              "      <td>0,88%</td>\n",
              "      <td>R$ 1,1 bi</td>\n",
              "      <td>R$ 91,83</td>\n",
              "      <td>-0,60%</td>\n",
              "      <td>0,79</td>\n",
              "    </tr>\n",
              "    <tr>\n",
              "      <th>1</th>\n",
              "      <td>AFCR11</td>\n",
              "      <td>957</td>\n",
              "      <td>R$ 1,30</td>\n",
              "      <td>1,25%</td>\n",
              "      <td>R$ 154,9 mi</td>\n",
              "      <td>R$ 102,29</td>\n",
              "      <td>1,05%</td>\n",
              "      <td>1,01</td>\n",
              "    </tr>\n",
              "    <tr>\n",
              "      <th>2</th>\n",
              "      <td>AFHI11</td>\n",
              "      <td>28.440</td>\n",
              "      <td>R$ 1,35</td>\n",
              "      <td>1,36%</td>\n",
              "      <td>R$ 173,8 mi</td>\n",
              "      <td>R$ 97,24</td>\n",
              "      <td>-2,21%</td>\n",
              "      <td>1,10</td>\n",
              "    </tr>\n",
              "    <tr>\n",
              "      <th>3</th>\n",
              "      <td>AFOF11</td>\n",
              "      <td>1.863</td>\n",
              "      <td>R$ 0,60</td>\n",
              "      <td>1,28%</td>\n",
              "      <td>R$ 70,7 mi</td>\n",
              "      <td>R$ 102,32</td>\n",
              "      <td>-4,13%</td>\n",
              "      <td>0,87</td>\n",
              "    </tr>\n",
              "    <tr>\n",
              "      <th>4</th>\n",
              "      <td>AIEC11</td>\n",
              "      <td>1.639</td>\n",
              "      <td>R$ 0,72</td>\n",
              "      <td>0,90%</td>\n",
              "      <td>R$ 488,5 mi</td>\n",
              "      <td>R$ 101,24</td>\n",
              "      <td>-3,08%</td>\n",
              "      <td>0,79</td>\n",
              "    </tr>\n",
              "  </tbody>\n",
              "</table>\n",
              "</div>\n",
              "      <button class=\"colab-df-convert\" onclick=\"convertToInteractive('df-c0fbd011-fe05-4254-b547-afdc102b7ddf')\"\n",
              "              title=\"Convert this dataframe to an interactive table.\"\n",
              "              style=\"display:none;\">\n",
              "        \n",
              "  <svg xmlns=\"http://www.w3.org/2000/svg\" height=\"24px\"viewBox=\"0 0 24 24\"\n",
              "       width=\"24px\">\n",
              "    <path d=\"M0 0h24v24H0V0z\" fill=\"none\"/>\n",
              "    <path d=\"M18.56 5.44l.94 2.06.94-2.06 2.06-.94-2.06-.94-.94-2.06-.94 2.06-2.06.94zm-11 1L8.5 8.5l.94-2.06 2.06-.94-2.06-.94L8.5 2.5l-.94 2.06-2.06.94zm10 10l.94 2.06.94-2.06 2.06-.94-2.06-.94-.94-2.06-.94 2.06-2.06.94z\"/><path d=\"M17.41 7.96l-1.37-1.37c-.4-.4-.92-.59-1.43-.59-.52 0-1.04.2-1.43.59L10.3 9.45l-7.72 7.72c-.78.78-.78 2.05 0 2.83L4 21.41c.39.39.9.59 1.41.59.51 0 1.02-.2 1.41-.59l7.78-7.78 2.81-2.81c.8-.78.8-2.07 0-2.86zM5.41 20L4 18.59l7.72-7.72 1.47 1.35L5.41 20z\"/>\n",
              "  </svg>\n",
              "      </button>\n",
              "      \n",
              "  <style>\n",
              "    .colab-df-container {\n",
              "      display:flex;\n",
              "      flex-wrap:wrap;\n",
              "      gap: 12px;\n",
              "    }\n",
              "\n",
              "    .colab-df-convert {\n",
              "      background-color: #E8F0FE;\n",
              "      border: none;\n",
              "      border-radius: 50%;\n",
              "      cursor: pointer;\n",
              "      display: none;\n",
              "      fill: #1967D2;\n",
              "      height: 32px;\n",
              "      padding: 0 0 0 0;\n",
              "      width: 32px;\n",
              "    }\n",
              "\n",
              "    .colab-df-convert:hover {\n",
              "      background-color: #E2EBFA;\n",
              "      box-shadow: 0px 1px 2px rgba(60, 64, 67, 0.3), 0px 1px 3px 1px rgba(60, 64, 67, 0.15);\n",
              "      fill: #174EA6;\n",
              "    }\n",
              "\n",
              "    [theme=dark] .colab-df-convert {\n",
              "      background-color: #3B4455;\n",
              "      fill: #D2E3FC;\n",
              "    }\n",
              "\n",
              "    [theme=dark] .colab-df-convert:hover {\n",
              "      background-color: #434B5C;\n",
              "      box-shadow: 0px 1px 3px 1px rgba(0, 0, 0, 0.15);\n",
              "      filter: drop-shadow(0px 1px 2px rgba(0, 0, 0, 0.3));\n",
              "      fill: #FFFFFF;\n",
              "    }\n",
              "  </style>\n",
              "\n",
              "      <script>\n",
              "        const buttonEl =\n",
              "          document.querySelector('#df-c0fbd011-fe05-4254-b547-afdc102b7ddf button.colab-df-convert');\n",
              "        buttonEl.style.display =\n",
              "          google.colab.kernel.accessAllowed ? 'block' : 'none';\n",
              "\n",
              "        async function convertToInteractive(key) {\n",
              "          const element = document.querySelector('#df-c0fbd011-fe05-4254-b547-afdc102b7ddf');\n",
              "          const dataTable =\n",
              "            await google.colab.kernel.invokeFunction('convertToInteractive',\n",
              "                                                     [key], {});\n",
              "          if (!dataTable) return;\n",
              "\n",
              "          const docLinkHtml = 'Like what you see? Visit the ' +\n",
              "            '<a target=\"_blank\" href=https://colab.research.google.com/notebooks/data_table.ipynb>data table notebook</a>'\n",
              "            + ' to learn more about interactive tables.';\n",
              "          element.innerHTML = '';\n",
              "          dataTable['output_type'] = 'display_data';\n",
              "          await google.colab.output.renderOutput(dataTable, element);\n",
              "          const docLink = document.createElement('div');\n",
              "          docLink.innerHTML = docLinkHtml;\n",
              "          element.appendChild(docLink);\n",
              "        }\n",
              "      </script>\n",
              "    </div>\n",
              "  </div>\n",
              "  "
            ]
          },
          "metadata": {},
          "execution_count": 39
        }
      ],
      "source": [
        "df.head()"
      ]
    },
    {
      "cell_type": "code",
      "execution_count": 40,
      "id": "252dd4fc",
      "metadata": {
        "id": "252dd4fc",
        "outputId": "4a1d3d60-8c0c-424b-8bd8-d419ad0196f3",
        "colab": {
          "base_uri": "https://localhost:8080/"
        }
      },
      "outputs": [
        {
          "output_type": "execute_result",
          "data": {
            "text/plain": [
              "nome_fii          object\n",
              "liq diaria        object\n",
              "ultimo rend       object\n",
              "yield             object\n",
              "patrim liquido    object\n",
              "valor patrim      object\n",
              "rent mes          object\n",
              "p/vp              object\n",
              "dtype: object"
            ]
          },
          "metadata": {},
          "execution_count": 40
        }
      ],
      "source": [
        "df.dtypes"
      ]
    },
    {
      "cell_type": "code",
      "execution_count": 41,
      "id": "78a30d96",
      "metadata": {
        "id": "78a30d96",
        "outputId": "cd573e0d-96a4-48a6-d02e-522f862e5ef9",
        "colab": {
          "base_uri": "https://localhost:8080/"
        }
      },
      "outputs": [
        {
          "output_type": "execute_result",
          "data": {
            "text/plain": [
              "nome_fii           0\n",
              "liq diaria        30\n",
              "ultimo rend       20\n",
              "yield             36\n",
              "patrim liquido     6\n",
              "valor patrim       6\n",
              "rent mes          33\n",
              "p/vp              30\n",
              "dtype: int64"
            ]
          },
          "metadata": {},
          "execution_count": 41
        }
      ],
      "source": [
        "df.isnull().sum()"
      ]
    },
    {
      "cell_type": "code",
      "execution_count": 42,
      "id": "61190064",
      "metadata": {
        "id": "61190064"
      },
      "outputs": [],
      "source": [
        "df = df.fillna('0')"
      ]
    },
    {
      "cell_type": "code",
      "execution_count": 43,
      "id": "33c5eb2b",
      "metadata": {
        "id": "33c5eb2b"
      },
      "outputs": [],
      "source": [
        "df['liq diaria'] = df['liq diaria'].str.replace('.','', regex=False).astype(int)\n",
        "\n",
        "df['ultimo rend'] = df['ultimo rend'].str.replace('R$ ','', regex=False)\n",
        "df['ultimo rend'] = df['ultimo rend'].str.replace(',','.', regex=False).astype(float)\n",
        "\n",
        "df['yield'] = df['yield'].str.replace(',','.', regex=False)\n",
        "df['yield'] = df['yield'].str.replace('%','', regex=False).astype(float)/100"
      ]
    },
    {
      "cell_type": "code",
      "execution_count": 44,
      "id": "c6e0a338",
      "metadata": {
        "id": "c6e0a338",
        "outputId": "08c0decb-6e04-4462-c0b5-44b82cef70a5",
        "colab": {
          "base_uri": "https://localhost:8080/"
        }
      },
      "outputs": [
        {
          "output_type": "execute_result",
          "data": {
            "text/plain": [
              "array(['bi', 'mi', '0', '778.257,9'], dtype=object)"
            ]
          },
          "metadata": {},
          "execution_count": 44
        }
      ],
      "source": [
        "df['patrim liquido'].apply(lambda x: x.split(' ')[-1]).unique()"
      ]
    },
    {
      "cell_type": "code",
      "execution_count": 45,
      "id": "c8ff8ba3",
      "metadata": {
        "id": "c8ff8ba3",
        "outputId": "8291fe79-051b-4956-b342-cec62fa44971",
        "colab": {
          "base_uri": "https://localhost:8080/"
        }
      },
      "outputs": [
        {
          "output_type": "execute_result",
          "data": {
            "text/plain": [
              "778257.9"
            ]
          },
          "metadata": {},
          "execution_count": 45
        }
      ],
      "source": [
        "def trata_patr_liq(x):\n",
        "    x = x.replace('R$ ','')\n",
        "    x = x.replace('.','')\n",
        "    x = x.replace(',','.')\n",
        "    x = x.split(' ')\n",
        "    if x[-1] == 'mi':\n",
        "        x = float(x[0])*10**6\n",
        "    elif x[-1] == 'bi':\n",
        "        x = float(x[0])*10**9\n",
        "\n",
        "    if type(x) == type(list()):\n",
        "        x = float(x[0])\n",
        "    return x\n",
        "\n",
        "trata_patr_liq(x = 'R$ 778.257,9')"
      ]
    },
    {
      "cell_type": "code",
      "execution_count": 46,
      "id": "d075d638",
      "metadata": {
        "id": "d075d638"
      },
      "outputs": [],
      "source": [
        "df['patrim liquido'] = df['patrim liquido'].apply(lambda x: trata_patr_liq(x))"
      ]
    },
    {
      "cell_type": "code",
      "execution_count": 47,
      "id": "2848d8f6",
      "metadata": {
        "id": "2848d8f6"
      },
      "outputs": [],
      "source": [
        "df['valor patrim'] = df['valor patrim'].str.replace('R$ ','',regex=False)\n",
        "df['valor patrim'] = df['valor patrim'].str.replace('.','',regex=False)\n",
        "df['valor patrim'] = df['valor patrim'].str.replace(',','.',regex=False).astype(float)"
      ]
    },
    {
      "cell_type": "code",
      "execution_count": 48,
      "id": "0dfe736a",
      "metadata": {
        "id": "0dfe736a"
      },
      "outputs": [],
      "source": [
        "df['rent mes'] = df['rent mes'].str.replace('%','',regex=False)\n",
        "df['rent mes'] = df['rent mes'].str.replace(',','.',regex=False).astype(float)/100"
      ]
    },
    {
      "cell_type": "code",
      "execution_count": 49,
      "id": "73b39a97",
      "metadata": {
        "id": "73b39a97"
      },
      "outputs": [],
      "source": [
        "df['p/vp'] = df['p/vp'].str.replace(',','.',regex=False).astype(float)"
      ]
    },
    {
      "cell_type": "code",
      "execution_count": 50,
      "id": "feaa38e0",
      "metadata": {
        "id": "feaa38e0",
        "outputId": "afbb0a1b-bb24-4cec-eb3b-165922039058",
        "colab": {
          "base_uri": "https://localhost:8080/",
          "height": 206
        }
      },
      "outputs": [
        {
          "output_type": "execute_result",
          "data": {
            "text/plain": [
              "  nome_fii  liq diaria  ultimo rend   yield  patrim liquido  valor patrim  \\\n",
              "0   ABCP11        1721         0.65  0.0088    1.100000e+09         91.83   \n",
              "1   AFCR11         957         1.30  0.0125    1.549000e+08        102.29   \n",
              "2   AFHI11       28440         1.35  0.0136    1.738000e+08         97.24   \n",
              "3   AFOF11        1863         0.60  0.0128    7.070000e+07        102.32   \n",
              "4   AIEC11        1639         0.72  0.0090    4.885000e+08        101.24   \n",
              "\n",
              "   rent mes  p/vp  \n",
              "0   -0.0060  0.79  \n",
              "1    0.0105  1.01  \n",
              "2   -0.0221  1.10  \n",
              "3   -0.0413  0.87  \n",
              "4   -0.0308  0.79  "
            ],
            "text/html": [
              "\n",
              "  <div id=\"df-287cb2c1-4c33-4817-bbf3-c27411c4a884\">\n",
              "    <div class=\"colab-df-container\">\n",
              "      <div>\n",
              "<style scoped>\n",
              "    .dataframe tbody tr th:only-of-type {\n",
              "        vertical-align: middle;\n",
              "    }\n",
              "\n",
              "    .dataframe tbody tr th {\n",
              "        vertical-align: top;\n",
              "    }\n",
              "\n",
              "    .dataframe thead th {\n",
              "        text-align: right;\n",
              "    }\n",
              "</style>\n",
              "<table border=\"1\" class=\"dataframe\">\n",
              "  <thead>\n",
              "    <tr style=\"text-align: right;\">\n",
              "      <th></th>\n",
              "      <th>nome_fii</th>\n",
              "      <th>liq diaria</th>\n",
              "      <th>ultimo rend</th>\n",
              "      <th>yield</th>\n",
              "      <th>patrim liquido</th>\n",
              "      <th>valor patrim</th>\n",
              "      <th>rent mes</th>\n",
              "      <th>p/vp</th>\n",
              "    </tr>\n",
              "  </thead>\n",
              "  <tbody>\n",
              "    <tr>\n",
              "      <th>0</th>\n",
              "      <td>ABCP11</td>\n",
              "      <td>1721</td>\n",
              "      <td>0.65</td>\n",
              "      <td>0.0088</td>\n",
              "      <td>1.100000e+09</td>\n",
              "      <td>91.83</td>\n",
              "      <td>-0.0060</td>\n",
              "      <td>0.79</td>\n",
              "    </tr>\n",
              "    <tr>\n",
              "      <th>1</th>\n",
              "      <td>AFCR11</td>\n",
              "      <td>957</td>\n",
              "      <td>1.30</td>\n",
              "      <td>0.0125</td>\n",
              "      <td>1.549000e+08</td>\n",
              "      <td>102.29</td>\n",
              "      <td>0.0105</td>\n",
              "      <td>1.01</td>\n",
              "    </tr>\n",
              "    <tr>\n",
              "      <th>2</th>\n",
              "      <td>AFHI11</td>\n",
              "      <td>28440</td>\n",
              "      <td>1.35</td>\n",
              "      <td>0.0136</td>\n",
              "      <td>1.738000e+08</td>\n",
              "      <td>97.24</td>\n",
              "      <td>-0.0221</td>\n",
              "      <td>1.10</td>\n",
              "    </tr>\n",
              "    <tr>\n",
              "      <th>3</th>\n",
              "      <td>AFOF11</td>\n",
              "      <td>1863</td>\n",
              "      <td>0.60</td>\n",
              "      <td>0.0128</td>\n",
              "      <td>7.070000e+07</td>\n",
              "      <td>102.32</td>\n",
              "      <td>-0.0413</td>\n",
              "      <td>0.87</td>\n",
              "    </tr>\n",
              "    <tr>\n",
              "      <th>4</th>\n",
              "      <td>AIEC11</td>\n",
              "      <td>1639</td>\n",
              "      <td>0.72</td>\n",
              "      <td>0.0090</td>\n",
              "      <td>4.885000e+08</td>\n",
              "      <td>101.24</td>\n",
              "      <td>-0.0308</td>\n",
              "      <td>0.79</td>\n",
              "    </tr>\n",
              "  </tbody>\n",
              "</table>\n",
              "</div>\n",
              "      <button class=\"colab-df-convert\" onclick=\"convertToInteractive('df-287cb2c1-4c33-4817-bbf3-c27411c4a884')\"\n",
              "              title=\"Convert this dataframe to an interactive table.\"\n",
              "              style=\"display:none;\">\n",
              "        \n",
              "  <svg xmlns=\"http://www.w3.org/2000/svg\" height=\"24px\"viewBox=\"0 0 24 24\"\n",
              "       width=\"24px\">\n",
              "    <path d=\"M0 0h24v24H0V0z\" fill=\"none\"/>\n",
              "    <path d=\"M18.56 5.44l.94 2.06.94-2.06 2.06-.94-2.06-.94-.94-2.06-.94 2.06-2.06.94zm-11 1L8.5 8.5l.94-2.06 2.06-.94-2.06-.94L8.5 2.5l-.94 2.06-2.06.94zm10 10l.94 2.06.94-2.06 2.06-.94-2.06-.94-.94-2.06-.94 2.06-2.06.94z\"/><path d=\"M17.41 7.96l-1.37-1.37c-.4-.4-.92-.59-1.43-.59-.52 0-1.04.2-1.43.59L10.3 9.45l-7.72 7.72c-.78.78-.78 2.05 0 2.83L4 21.41c.39.39.9.59 1.41.59.51 0 1.02-.2 1.41-.59l7.78-7.78 2.81-2.81c.8-.78.8-2.07 0-2.86zM5.41 20L4 18.59l7.72-7.72 1.47 1.35L5.41 20z\"/>\n",
              "  </svg>\n",
              "      </button>\n",
              "      \n",
              "  <style>\n",
              "    .colab-df-container {\n",
              "      display:flex;\n",
              "      flex-wrap:wrap;\n",
              "      gap: 12px;\n",
              "    }\n",
              "\n",
              "    .colab-df-convert {\n",
              "      background-color: #E8F0FE;\n",
              "      border: none;\n",
              "      border-radius: 50%;\n",
              "      cursor: pointer;\n",
              "      display: none;\n",
              "      fill: #1967D2;\n",
              "      height: 32px;\n",
              "      padding: 0 0 0 0;\n",
              "      width: 32px;\n",
              "    }\n",
              "\n",
              "    .colab-df-convert:hover {\n",
              "      background-color: #E2EBFA;\n",
              "      box-shadow: 0px 1px 2px rgba(60, 64, 67, 0.3), 0px 1px 3px 1px rgba(60, 64, 67, 0.15);\n",
              "      fill: #174EA6;\n",
              "    }\n",
              "\n",
              "    [theme=dark] .colab-df-convert {\n",
              "      background-color: #3B4455;\n",
              "      fill: #D2E3FC;\n",
              "    }\n",
              "\n",
              "    [theme=dark] .colab-df-convert:hover {\n",
              "      background-color: #434B5C;\n",
              "      box-shadow: 0px 1px 3px 1px rgba(0, 0, 0, 0.15);\n",
              "      filter: drop-shadow(0px 1px 2px rgba(0, 0, 0, 0.3));\n",
              "      fill: #FFFFFF;\n",
              "    }\n",
              "  </style>\n",
              "\n",
              "      <script>\n",
              "        const buttonEl =\n",
              "          document.querySelector('#df-287cb2c1-4c33-4817-bbf3-c27411c4a884 button.colab-df-convert');\n",
              "        buttonEl.style.display =\n",
              "          google.colab.kernel.accessAllowed ? 'block' : 'none';\n",
              "\n",
              "        async function convertToInteractive(key) {\n",
              "          const element = document.querySelector('#df-287cb2c1-4c33-4817-bbf3-c27411c4a884');\n",
              "          const dataTable =\n",
              "            await google.colab.kernel.invokeFunction('convertToInteractive',\n",
              "                                                     [key], {});\n",
              "          if (!dataTable) return;\n",
              "\n",
              "          const docLinkHtml = 'Like what you see? Visit the ' +\n",
              "            '<a target=\"_blank\" href=https://colab.research.google.com/notebooks/data_table.ipynb>data table notebook</a>'\n",
              "            + ' to learn more about interactive tables.';\n",
              "          element.innerHTML = '';\n",
              "          dataTable['output_type'] = 'display_data';\n",
              "          await google.colab.output.renderOutput(dataTable, element);\n",
              "          const docLink = document.createElement('div');\n",
              "          docLink.innerHTML = docLinkHtml;\n",
              "          element.appendChild(docLink);\n",
              "        }\n",
              "      </script>\n",
              "    </div>\n",
              "  </div>\n",
              "  "
            ]
          },
          "metadata": {},
          "execution_count": 50
        }
      ],
      "source": [
        "df.head()"
      ]
    },
    {
      "cell_type": "code",
      "execution_count": 51,
      "id": "e69671db",
      "metadata": {
        "id": "e69671db"
      },
      "outputs": [],
      "source": [
        "df.to_csv('data_fii.csv', sep=';', decimal=',', index=False)"
      ]
    },
    {
      "cell_type": "code",
      "execution_count": 51,
      "id": "cbce53cd",
      "metadata": {
        "id": "cbce53cd"
      },
      "outputs": [],
      "source": [
        ""
      ]
    }
  ],
  "metadata": {
    "kernelspec": {
      "display_name": "Python 3 (ipykernel)",
      "language": "python",
      "name": "python3"
    },
    "language_info": {
      "codemirror_mode": {
        "name": "ipython",
        "version": 3
      },
      "file_extension": ".py",
      "mimetype": "text/x-python",
      "name": "python",
      "nbconvert_exporter": "python",
      "pygments_lexer": "ipython3",
      "version": "3.9.7"
    },
    "colab": {
      "name": "Tratamento Base fii.ipynb",
      "provenance": [],
      "include_colab_link": true
    }
  },
  "nbformat": 4,
  "nbformat_minor": 5
}